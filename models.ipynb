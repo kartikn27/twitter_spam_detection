{
 "cells": [
  {
   "cell_type": "code",
   "execution_count": 52,
   "metadata": {
    "collapsed": true
   },
   "outputs": [],
   "source": [
    "import pandas as pd\n",
    "from sklearn import preprocessing\n",
    "from sklearn.feature_extraction.text import TfidfVectorizer\n",
    "from scipy.sparse import coo_matrix, hstack\n",
    "from sklearn.naive_bayes import MultinomialNB\n",
    "import ast"
   ]
  },
  {
   "cell_type": "code",
   "execution_count": 53,
   "metadata": {
    "collapsed": true
   },
   "outputs": [],
   "source": [
    "data = pd.read_csv(\"../data_chunks/out0.csv\")"
   ]
  },
  {
   "cell_type": "code",
   "execution_count": 55,
   "metadata": {},
   "outputs": [
    {
     "data": {
      "text/plain": [
       "Index(['Unnamed: 0', 'no', 'id', 'spam', 'source', 'tweet', 'created_at',\n",
       "       'followers_count', 'friends_count', 'hashtags', 'symbols', 'text',\n",
       "       'urls', 'user_description', 'user_id', 'user_location', 'user_name',\n",
       "       'verified'],\n",
       "      dtype='object')"
      ]
     },
     "execution_count": 55,
     "metadata": {},
     "output_type": "execute_result"
    }
   ],
   "source": [
    "data.columns"
   ]
  },
  {
   "cell_type": "code",
   "execution_count": 56,
   "metadata": {
    "collapsed": true
   },
   "outputs": [],
   "source": [
    "data.drop(['Unnamed: 0',\"no\",\"tweet\",\"symbols\"] ,axis=1, inplace=True)"
   ]
  },
  {
   "cell_type": "code",
   "execution_count": 59,
   "metadata": {},
   "outputs": [
    {
     "data": {
      "text/html": [
       "<div>\n",
       "<style>\n",
       "    .dataframe thead tr:only-child th {\n",
       "        text-align: right;\n",
       "    }\n",
       "\n",
       "    .dataframe thead th {\n",
       "        text-align: left;\n",
       "    }\n",
       "\n",
       "    .dataframe tbody tr th {\n",
       "        vertical-align: top;\n",
       "    }\n",
       "</style>\n",
       "<table border=\"1\" class=\"dataframe\">\n",
       "  <thead>\n",
       "    <tr style=\"text-align: right;\">\n",
       "      <th></th>\n",
       "      <th>id</th>\n",
       "      <th>spam</th>\n",
       "      <th>source</th>\n",
       "      <th>created_at</th>\n",
       "      <th>followers_count</th>\n",
       "      <th>friends_count</th>\n",
       "      <th>hashtags</th>\n",
       "      <th>text</th>\n",
       "      <th>urls</th>\n",
       "      <th>user_description</th>\n",
       "      <th>user_id</th>\n",
       "      <th>user_location</th>\n",
       "      <th>user_name</th>\n",
       "      <th>verified</th>\n",
       "    </tr>\n",
       "  </thead>\n",
       "  <tbody>\n",
       "  </tbody>\n",
       "</table>\n",
       "</div>"
      ],
      "text/plain": [
       "Empty DataFrame\n",
       "Columns: [id, spam, source, created_at, followers_count, friends_count, hashtags, text, urls, user_description, user_id, user_location, user_name, verified]\n",
       "Index: []"
      ]
     },
     "execution_count": 59,
     "metadata": {},
     "output_type": "execute_result"
    }
   ],
   "source": [
    "data[data['spam'].isnull()]"
   ]
  },
  {
   "cell_type": "code",
   "execution_count": 62,
   "metadata": {
    "collapsed": true
   },
   "outputs": [],
   "source": [
    "y = data['spam']"
   ]
  },
  {
   "cell_type": "code",
   "execution_count": 63,
   "metadata": {},
   "outputs": [
    {
     "data": {
      "text/plain": [
       " 0    497\n",
       " 1     59\n",
       "-1      2\n",
       "Name: spam, dtype: int64"
      ]
     },
     "execution_count": 63,
     "metadata": {},
     "output_type": "execute_result"
    }
   ],
   "source": [
    "y.value_counts()"
   ]
  },
  {
   "cell_type": "code",
   "execution_count": 64,
   "metadata": {
    "collapsed": true
   },
   "outputs": [],
   "source": [
    "X= data[\"text\"].values\n",
    "y = data['spam'].values"
   ]
  },
  {
   "cell_type": "code",
   "execution_count": 92,
   "metadata": {},
   "outputs": [],
   "source": [
    "l = ast.literal_eval(data[\"hashtags\"][7])\n",
    "print(l[0][\"text\"])\n"
   ]
  },
  {
   "cell_type": "code",
   "execution_count": 111,
   "metadata": {},
   "outputs": [],
   "source": [
    "def get_hashtags(tag):\n",
    "    ans = []\n",
    "    tag = ast.literal_eval(tag)\n",
    "\n",
    "    for i in tag:\n",
    "        if len(tag) > 0:\n",
    "            ans.append(i[\"text\"])\n",
    "    ans  = \",\".join(str(x) for x in ans)\n",
    "    return ans"
   ]
  },
  {
   "cell_type": "code",
   "execution_count": 113,
   "metadata": {
    "scrolled": true
   },
   "outputs": [],
   "source": [
    "data[\"hashtags\"] = data[\"hashtags\"].apply(get_hashtags)"
   ]
  },
  {
   "cell_type": "code",
   "execution_count": 121,
   "metadata": {},
   "outputs": [],
   "source": [
    "H = data[\"hashtags\"].values"
   ]
  },
  {
   "cell_type": "code",
   "execution_count": 123,
   "metadata": {},
   "outputs": [],
   "source": [
    "tfidf_hash = TfidfVectorizer(encoding='latin-1',binary=True, ngram_range=(1,1), min_df=2, use_idf=True, stop_words='english')\n"
   ]
  },
  {
   "cell_type": "code",
   "execution_count": 127,
   "metadata": {},
   "outputs": [],
   "source": [
    "H_vec = tfidf_hash.fit_transform(H)\n"
   ]
  },
  {
   "cell_type": "code",
   "execution_count": 154,
   "metadata": {
    "scrolled": true
   },
   "outputs": [],
   "source": [
    "data[\"verified_num\"] = data[\"verified\"].apply(lambda x: 1 if x == 'True' else 0)"
   ]
  },
  {
   "cell_type": "code",
   "execution_count": 145,
   "metadata": {
    "collapsed": true
   },
   "outputs": [
    {
     "data": {
      "text/html": [
       "<div>\n",
       "<style>\n",
       "    .dataframe thead tr:only-child th {\n",
       "        text-align: right;\n",
       "    }\n",
       "\n",
       "    .dataframe thead th {\n",
       "        text-align: left;\n",
       "    }\n",
       "\n",
       "    .dataframe tbody tr th {\n",
       "        vertical-align: top;\n",
       "    }\n",
       "</style>\n",
       "<table border=\"1\" class=\"dataframe\">\n",
       "  <thead>\n",
       "    <tr style=\"text-align: right;\">\n",
       "      <th></th>\n",
       "      <th>id</th>\n",
       "      <th>spam</th>\n",
       "      <th>source</th>\n",
       "      <th>created_at</th>\n",
       "      <th>followers_count</th>\n",
       "      <th>friends_count</th>\n",
       "      <th>hashtags</th>\n",
       "      <th>text</th>\n",
       "      <th>urls</th>\n",
       "      <th>user_description</th>\n",
       "      <th>user_id</th>\n",
       "      <th>user_location</th>\n",
       "      <th>user_name</th>\n",
       "      <th>verified</th>\n",
       "    </tr>\n",
       "  </thead>\n",
       "  <tbody>\n",
       "    <tr>\n",
       "      <th>67</th>\n",
       "      <td>329850900619341824</td>\n",
       "      <td>0</td>\n",
       "      <td>5</td>\n",
       "      <td>Thu May 02 06:52:37 +0000 2013</td>\n",
       "      <td>1604</td>\n",
       "      <td>324</td>\n",
       "      <td></td>\n",
       "      <td>while no one knows 80 percent of the shit you'...</td>\n",
       "      <td>[]</td>\n",
       "      <td>ㄱ</td>\n",
       "      <td>31466190</td>\n",
       "      <td>Murrieta, CA</td>\n",
       "      <td>.</td>\n",
       "      <td>False</td>\n",
       "    </tr>\n",
       "    <tr>\n",
       "      <th>242</th>\n",
       "      <td>329850932588318720</td>\n",
       "      <td>0</td>\n",
       "      <td>5</td>\n",
       "      <td>Thu May 02 06:52:45 +0000 2013</td>\n",
       "      <td>1292</td>\n",
       "      <td>546</td>\n",
       "      <td></td>\n",
       "      <td>fall in love with minwoo(boyfriend)!!!!!</td>\n",
       "      <td>[]</td>\n",
       "      <td>[ i'm gonna cherish you forever ]</td>\n",
       "      <td>1016035394</td>\n",
       "      <td>multifandom , bias | chinaline</td>\n",
       "      <td>.</td>\n",
       "      <td>False</td>\n",
       "    </tr>\n",
       "    <tr>\n",
       "      <th>253</th>\n",
       "      <td>329850934471565312</td>\n",
       "      <td>1</td>\n",
       "      <td>6</td>\n",
       "      <td>Thu May 02 06:52:45 +0000 2013</td>\n",
       "      <td>297</td>\n",
       "      <td>282</td>\n",
       "      <td></td>\n",
       "      <td>@giannaa_rose that unfollower can go fuck em s...</td>\n",
       "      <td>[]</td>\n",
       "      <td>NaN</td>\n",
       "      <td>515273018</td>\n",
       "      <td>NaN</td>\n",
       "      <td>.</td>\n",
       "      <td>False</td>\n",
       "    </tr>\n",
       "    <tr>\n",
       "      <th>415</th>\n",
       "      <td>329850968172793856</td>\n",
       "      <td>0</td>\n",
       "      <td>5</td>\n",
       "      <td>Thu May 02 06:52:53 +0000 2013</td>\n",
       "      <td>1060</td>\n",
       "      <td>362</td>\n",
       "      <td></td>\n",
       "      <td>@KatieandthatEGO you'd think after moving acro...</td>\n",
       "      <td>[]</td>\n",
       "      <td>NaN</td>\n",
       "      <td>64097067</td>\n",
       "      <td>NaN</td>\n",
       "      <td>.</td>\n",
       "      <td>False</td>\n",
       "    </tr>\n",
       "    <tr>\n",
       "      <th>423</th>\n",
       "      <td>329850971922526208</td>\n",
       "      <td>0</td>\n",
       "      <td>5</td>\n",
       "      <td>Thu May 02 06:52:54 +0000 2013</td>\n",
       "      <td>1106</td>\n",
       "      <td>0</td>\n",
       "      <td></td>\n",
       "      <td>Writing music.</td>\n",
       "      <td>[]</td>\n",
       "      <td>NaN</td>\n",
       "      <td>271139177</td>\n",
       "      <td>.</td>\n",
       "      <td>.</td>\n",
       "      <td>False</td>\n",
       "    </tr>\n",
       "    <tr>\n",
       "      <th>482</th>\n",
       "      <td>329850984803213312</td>\n",
       "      <td>0</td>\n",
       "      <td>6</td>\n",
       "      <td>Thu May 02 06:52:57 +0000 2013</td>\n",
       "      <td>39</td>\n",
       "      <td>178</td>\n",
       "      <td></td>\n",
       "      <td>@Dimplesz567 baby I love uuuuuu and wen I slid...</td>\n",
       "      <td>[]</td>\n",
       "      <td>NaN</td>\n",
       "      <td>1118384142</td>\n",
       "      <td>NaN</td>\n",
       "      <td>.</td>\n",
       "      <td>False</td>\n",
       "    </tr>\n",
       "  </tbody>\n",
       "</table>\n",
       "</div>"
      ],
      "text/plain": [
       "                     id  spam  source                      created_at  \\\n",
       "67   329850900619341824     0       5  Thu May 02 06:52:37 +0000 2013   \n",
       "242  329850932588318720     0       5  Thu May 02 06:52:45 +0000 2013   \n",
       "253  329850934471565312     1       6  Thu May 02 06:52:45 +0000 2013   \n",
       "415  329850968172793856     0       5  Thu May 02 06:52:53 +0000 2013   \n",
       "423  329850971922526208     0       5  Thu May 02 06:52:54 +0000 2013   \n",
       "482  329850984803213312     0       6  Thu May 02 06:52:57 +0000 2013   \n",
       "\n",
       "     followers_count  friends_count hashtags  \\\n",
       "67              1604            324            \n",
       "242             1292            546            \n",
       "253              297            282            \n",
       "415             1060            362            \n",
       "423             1106              0            \n",
       "482               39            178            \n",
       "\n",
       "                                                  text urls  \\\n",
       "67   while no one knows 80 percent of the shit you'...   []   \n",
       "242           fall in love with minwoo(boyfriend)!!!!!   []   \n",
       "253  @giannaa_rose that unfollower can go fuck em s...   []   \n",
       "415  @KatieandthatEGO you'd think after moving acro...   []   \n",
       "423                                     Writing music.   []   \n",
       "482  @Dimplesz567 baby I love uuuuuu and wen I slid...   []   \n",
       "\n",
       "                      user_description     user_id  \\\n",
       "67                                   ㄱ    31466190   \n",
       "242  [ i'm gonna cherish you forever ]  1016035394   \n",
       "253                                NaN   515273018   \n",
       "415                                NaN    64097067   \n",
       "423                                NaN   271139177   \n",
       "482                                NaN  1118384142   \n",
       "\n",
       "                      user_location user_name  verified  \n",
       "67                     Murrieta, CA         .     False  \n",
       "242  multifandom , bias | chinaline         .     False  \n",
       "253                             NaN         .     False  \n",
       "415                             NaN         .     False  \n",
       "423                               .         .     False  \n",
       "482                             NaN         .     False  "
      ]
     },
     "execution_count": 145,
     "metadata": {},
     "output_type": "execute_result"
    }
   ],
   "source": [
    "data[data[\"user_name\"] == \".\"]"
   ]
  },
  {
   "cell_type": "code",
   "execution_count": 38,
   "metadata": {
    "collapsed": true
   },
   "outputs": [],
   "source": [
    "tfidf = TfidfVectorizer(encoding='latin-1',binary=True, ngram_range=(1,2), min_df=5, use_idf=True, stop_words='english')"
   ]
  },
  {
   "cell_type": "code",
   "execution_count": 129,
   "metadata": {},
   "outputs": [],
   "source": [
    "X_vec = tfidf.fit_transform(X)"
   ]
  },
  {
   "cell_type": "code",
   "execution_count": 239,
   "metadata": {
    "scrolled": true
   },
   "outputs": [
    {
     "data": {
      "text/plain": [
       "(558, 132)"
      ]
     },
     "execution_count": 239,
     "metadata": {},
     "output_type": "execute_result"
    }
   ],
   "source": [
    "X_vec.shape\n"
   ]
  },
  {
   "cell_type": "markdown",
   "metadata": {},
   "source": [
    "### columns to use"
   ]
  },
  {
   "cell_type": "code",
   "execution_count": 49,
   "metadata": {},
   "outputs": [
    {
     "data": {
      "text/plain": [
       "(558, 123)"
      ]
     },
     "execution_count": 49,
     "metadata": {},
     "output_type": "execute_result"
    }
   ],
   "source": [
    "# X_vec , H_vec, followers_count , friends_count , user_id , verified_num"
   ]
  },
  {
   "cell_type": "code",
   "execution_count": 231,
   "metadata": {
    "scrolled": false
   },
   "outputs": [],
   "source": [
    "A = coo_matrix(X_vec)\n",
    "B = coo_matrix(H_vec)\n",
    "C = coo_matrix(data[\"followers_count\"].values)\n",
    "D = coo_matrix(data[\"friends_count\"].values)\n",
    "E = coo_matrix(data[\"user_id\"].values)\n",
    "F = coo_matrix(data[\"verified_num\"].values)\n"
   ]
  },
  {
   "cell_type": "code",
   "execution_count": 232,
   "metadata": {},
   "outputs": [],
   "source": [
    "tf_vectors = hstack([A,B,C.T,D.T,E.T,F.T]).toarray()\n"
   ]
  },
  {
   "cell_type": "code",
   "execution_count": 233,
   "metadata": {},
   "outputs": [
    {
     "data": {
      "text/plain": [
       "(558, 155)"
      ]
     },
     "execution_count": 233,
     "metadata": {},
     "output_type": "execute_result"
    }
   ],
   "source": [
    "tf_vectors.shape\n"
   ]
  },
  {
   "cell_type": "code",
   "execution_count": 235,
   "metadata": {
    "collapsed": true
   },
   "outputs": [],
   "source": [
    "nb_clf= MultinomialNB()\n"
   ]
  },
  {
   "cell_type": "code",
   "execution_count": 236,
   "metadata": {},
   "outputs": [
    {
     "data": {
      "text/plain": [
       "MultinomialNB(alpha=1.0, class_prior=None, fit_prior=True)"
      ]
     },
     "execution_count": 236,
     "metadata": {},
     "output_type": "execute_result"
    }
   ],
   "source": [
    "nb_clf.fit(tf_vectors,Y)"
   ]
  },
  {
   "cell_type": "code",
   "execution_count": 237,
   "metadata": {},
   "outputs": [
    {
     "data": {
      "text/plain": [
       "0.45519713261648748"
      ]
     },
     "execution_count": 237,
     "metadata": {},
     "output_type": "execute_result"
    }
   ],
   "source": [
    "nb_clf.score(tf_vectors,Y)"
   ]
  },
  {
   "cell_type": "code",
   "execution_count": null,
   "metadata": {
    "collapsed": true
   },
   "outputs": [],
   "source": []
  }
 ],
 "metadata": {
  "kernelspec": {
   "display_name": "Python 3",
   "language": "python",
   "name": "python3"
  },
  "language_info": {
   "codemirror_mode": {
    "name": "ipython",
    "version": 3
   },
   "file_extension": ".py",
   "mimetype": "text/x-python",
   "name": "python",
   "nbconvert_exporter": "python",
   "pygments_lexer": "ipython3",
   "version": "3.6.2"
  }
 },
 "nbformat": 4,
 "nbformat_minor": 2
}

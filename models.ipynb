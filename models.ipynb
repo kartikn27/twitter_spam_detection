{
 "cells": [
  {
   "cell_type": "code",
   "execution_count": 57,
   "metadata": {
    "collapsed": true
   },
   "outputs": [],
   "source": [
    "import pandas as pd\n",
    "from sklearn import preprocessing\n",
    "from sklearn.feature_extraction.text import TfidfVectorizer\n",
    "from scipy.sparse import coo_matrix, hstack\n",
    "from sklearn.naive_bayes import MultinomialNB\n",
    "from sklearn.model_selection import train_test_split\n",
    "import ast\n"
   ]
  },
  {
   "cell_type": "code",
   "execution_count": 195,
   "metadata": {
    "collapsed": true
   },
   "outputs": [],
   "source": [
    "data = pd.read_csv(\"../train_data/combine.csv\", sep=\",\", lineterminator='\\n')\n"
   ]
  },
  {
   "cell_type": "code",
   "execution_count": 196,
   "metadata": {
    "scrolled": true
   },
   "outputs": [
    {
     "data": {
      "text/plain": [
       "Index(['Unnamed: 0', 'no', 'id', 'spam', 'source', 'tweet', 'created_at',\n",
       "       'followers_count', 'friends_count', 'hashtags', 'symbols', 'text',\n",
       "       'urls', 'user_description', 'user_id', 'user_location', 'user_name',\n",
       "       'verified'],\n",
       "      dtype='object')"
      ]
     },
     "execution_count": 196,
     "metadata": {},
     "output_type": "execute_result"
    }
   ],
   "source": [
    "data.columns"
   ]
  },
  {
   "cell_type": "code",
   "execution_count": 197,
   "metadata": {},
   "outputs": [],
   "source": [
    "data.drop(['Unnamed: 0',\"no\",\"tweet\",\"symbols\"] ,axis=1, inplace=True)\n"
   ]
  },
  {
   "cell_type": "code",
   "execution_count": 198,
   "metadata": {},
   "outputs": [
    {
     "data": {
      "text/html": [
       "<div>\n",
       "<style>\n",
       "    .dataframe thead tr:only-child th {\n",
       "        text-align: right;\n",
       "    }\n",
       "\n",
       "    .dataframe thead th {\n",
       "        text-align: left;\n",
       "    }\n",
       "\n",
       "    .dataframe tbody tr th {\n",
       "        vertical-align: top;\n",
       "    }\n",
       "</style>\n",
       "<table border=\"1\" class=\"dataframe\">\n",
       "  <thead>\n",
       "    <tr style=\"text-align: right;\">\n",
       "      <th></th>\n",
       "      <th>id</th>\n",
       "      <th>spam</th>\n",
       "      <th>source</th>\n",
       "      <th>created_at</th>\n",
       "      <th>followers_count</th>\n",
       "      <th>friends_count</th>\n",
       "      <th>hashtags</th>\n",
       "      <th>text</th>\n",
       "      <th>urls</th>\n",
       "      <th>user_description</th>\n",
       "      <th>user_id</th>\n",
       "      <th>user_location</th>\n",
       "      <th>user_name</th>\n",
       "      <th>verified</th>\n",
       "    </tr>\n",
       "  </thead>\n",
       "  <tbody>\n",
       "  </tbody>\n",
       "</table>\n",
       "</div>"
      ],
      "text/plain": [
       "Empty DataFrame\n",
       "Columns: [id, spam, source, created_at, followers_count, friends_count, hashtags, text, urls, user_description, user_id, user_location, user_name, verified]\n",
       "Index: []"
      ]
     },
     "execution_count": 198,
     "metadata": {},
     "output_type": "execute_result"
    }
   ],
   "source": [
    "data[data['spam'].isnull()]"
   ]
  },
  {
   "cell_type": "code",
   "execution_count": 199,
   "metadata": {},
   "outputs": [],
   "source": [
    "data = data[~(data[\"id\"] == \"id\")]"
   ]
  },
  {
   "cell_type": "code",
   "execution_count": 200,
   "metadata": {},
   "outputs": [
    {
     "name": "stdout",
     "output_type": "stream",
     "text": [
      "<class 'pandas.core.frame.DataFrame'>\n",
      "Int64Index: 9828 entries, 0 to 9847\n",
      "Data columns (total 14 columns):\n",
      "id                  9828 non-null object\n",
      "spam                9828 non-null object\n",
      "source              9828 non-null object\n",
      "created_at          9828 non-null object\n",
      "followers_count     9828 non-null object\n",
      "friends_count       9828 non-null object\n",
      "hashtags            9828 non-null object\n",
      "text                9828 non-null object\n",
      "urls                9828 non-null object\n",
      "user_description    8139 non-null object\n",
      "user_id             9828 non-null object\n",
      "user_location       6887 non-null object\n",
      "user_name           9824 non-null object\n",
      "verified            9828 non-null object\n",
      "dtypes: object(14)\n",
      "memory usage: 1.1+ MB\n"
     ]
    }
   ],
   "source": [
    "data.info()"
   ]
  },
  {
   "cell_type": "code",
   "execution_count": 201,
   "metadata": {
    "collapsed": true
   },
   "outputs": [],
   "source": [
    "X = data[\"text\"].values\n",
    "y = data['spam'].values\n"
   ]
  },
  {
   "cell_type": "code",
   "execution_count": 202,
   "metadata": {
    "collapsed": true
   },
   "outputs": [],
   "source": [
    "data[\"verified_num\"] = data[\"verified\"].apply(lambda x: 1 if x == 'True' else 0)\n"
   ]
  },
  {
   "cell_type": "code",
   "execution_count": 203,
   "metadata": {},
   "outputs": [],
   "source": [
    "data[\"followers_count\"] = data[\"followers_count\"].apply(convert_float)"
   ]
  },
  {
   "cell_type": "code",
   "execution_count": 204,
   "metadata": {
    "collapsed": true
   },
   "outputs": [],
   "source": [
    "data[\"user_id\"] = data[\"user_id\"].apply(convert_float)"
   ]
  },
  {
   "cell_type": "code",
   "execution_count": 205,
   "metadata": {
    "collapsed": true
   },
   "outputs": [],
   "source": [
    "data[\"friends_count\"] = data[\"friends_count\"].apply(convert_float)"
   ]
  },
  {
   "cell_type": "code",
   "execution_count": 206,
   "metadata": {
    "collapsed": true
   },
   "outputs": [],
   "source": [
    "data[\"verified_num\"] = data[\"verified_num\"].apply(convert_float)"
   ]
  },
  {
   "cell_type": "code",
   "execution_count": 207,
   "metadata": {},
   "outputs": [
    {
     "name": "stdout",
     "output_type": "stream",
     "text": [
      "<class 'pandas.core.frame.DataFrame'>\n",
      "Int64Index: 9828 entries, 0 to 9847\n",
      "Data columns (total 15 columns):\n",
      "id                  9828 non-null object\n",
      "spam                9828 non-null object\n",
      "source              9828 non-null object\n",
      "created_at          9828 non-null object\n",
      "followers_count     9828 non-null float64\n",
      "friends_count       9828 non-null float64\n",
      "hashtags            9828 non-null object\n",
      "text                9828 non-null object\n",
      "urls                9828 non-null object\n",
      "user_description    8139 non-null object\n",
      "user_id             9828 non-null float64\n",
      "user_location       6887 non-null object\n",
      "user_name           9824 non-null object\n",
      "verified            9828 non-null object\n",
      "verified_num        9828 non-null float64\n",
      "dtypes: float64(4), object(11)\n",
      "memory usage: 1.2+ MB\n"
     ]
    }
   ],
   "source": [
    "data.info()"
   ]
  },
  {
   "cell_type": "code",
   "execution_count": null,
   "metadata": {
    "collapsed": true
   },
   "outputs": [],
   "source": []
  },
  {
   "cell_type": "code",
   "execution_count": 208,
   "metadata": {
    "collapsed": true
   },
   "outputs": [],
   "source": [
    "def get_hashtags(tag):\n",
    "    ans = []\n",
    "    try:\n",
    "        tag = ast.literal_eval(tag)\n",
    "        for i in tag:\n",
    "            if len(tag) > 0:\n",
    "                ans.append(i[\"text\"])\n",
    "    except Exception:\n",
    "        pass\n",
    "    ans  = \" \".join(str(x) for x in ans)\n",
    "    return ans"
   ]
  },
  {
   "cell_type": "code",
   "execution_count": 209,
   "metadata": {
    "collapsed": true
   },
   "outputs": [],
   "source": [
    "data[\"hashtags\"] = data[\"hashtags\"].apply(get_hashtags)\n"
   ]
  },
  {
   "cell_type": "code",
   "execution_count": 210,
   "metadata": {
    "collapsed": true
   },
   "outputs": [],
   "source": [
    "H = data[\"hashtags\"].values\n"
   ]
  },
  {
   "cell_type": "code",
   "execution_count": 211,
   "metadata": {},
   "outputs": [
    {
     "data": {
      "text/plain": [
       "(9828,)"
      ]
     },
     "execution_count": 211,
     "metadata": {},
     "output_type": "execute_result"
    }
   ],
   "source": [
    "H.shape"
   ]
  },
  {
   "cell_type": "code",
   "execution_count": 212,
   "metadata": {
    "collapsed": true
   },
   "outputs": [],
   "source": [
    "tfidf_hash = TfidfVectorizer(encoding='latin-1',binary=True, ngram_range=(1,1), min_df=2, use_idf=True, stop_words='english')\n"
   ]
  },
  {
   "cell_type": "code",
   "execution_count": 213,
   "metadata": {},
   "outputs": [],
   "source": [
    "H_vec = tfidf_hash.fit_transform(H)\n"
   ]
  },
  {
   "cell_type": "code",
   "execution_count": 214,
   "metadata": {
    "collapsed": true
   },
   "outputs": [],
   "source": [
    "tfidf = TfidfVectorizer(encoding='latin-1',binary=True, ngram_range=(1,2), min_df=5, use_idf=True, stop_words='english')"
   ]
  },
  {
   "cell_type": "code",
   "execution_count": 215,
   "metadata": {
    "collapsed": true
   },
   "outputs": [],
   "source": [
    "X_vec = tfidf.fit_transform(X)\n"
   ]
  },
  {
   "cell_type": "markdown",
   "metadata": {},
   "source": [
    "### columns to use"
   ]
  },
  {
   "cell_type": "code",
   "execution_count": 216,
   "metadata": {},
   "outputs": [],
   "source": [
    "# X_vec , H_vec, followers_count , friends_count , user_id , verified_num"
   ]
  },
  {
   "cell_type": "code",
   "execution_count": 217,
   "metadata": {},
   "outputs": [
    {
     "data": {
      "text/plain": [
       "(9828, 3258)"
      ]
     },
     "execution_count": 217,
     "metadata": {},
     "output_type": "execute_result"
    }
   ],
   "source": [
    "X_vec.shape"
   ]
  },
  {
   "cell_type": "code",
   "execution_count": 218,
   "metadata": {
    "collapsed": true,
    "scrolled": false
   },
   "outputs": [],
   "source": [
    "A = coo_matrix(X_vec)\n",
    "B = coo_matrix(H_vec)\n",
    "C = coo_matrix(data[\"followers_count\"].values)\n",
    "D = coo_matrix(data[\"friends_count\"].values)\n",
    "E = coo_matrix(data[\"user_id\"].values)\n",
    "F = coo_matrix(data[\"verified_num\"].values)\n"
   ]
  },
  {
   "cell_type": "code",
   "execution_count": 219,
   "metadata": {},
   "outputs": [
    {
     "data": {
      "text/plain": [
       "(1, 9828)"
      ]
     },
     "execution_count": 219,
     "metadata": {},
     "output_type": "execute_result"
    }
   ],
   "source": [
    "C.shape"
   ]
  },
  {
   "cell_type": "code",
   "execution_count": null,
   "metadata": {
    "collapsed": true
   },
   "outputs": [],
   "source": []
  },
  {
   "cell_type": "code",
   "execution_count": 220,
   "metadata": {},
   "outputs": [],
   "source": [
    "tf_vectors = hstack([A,B,C.T,D.T,E.T,F.T]).toarray()\n"
   ]
  },
  {
   "cell_type": "code",
   "execution_count": 38,
   "metadata": {
    "collapsed": true
   },
   "outputs": [],
   "source": [
    "nb_clf= MultinomialNB()\n"
   ]
  },
  {
   "cell_type": "code",
   "execution_count": 39,
   "metadata": {},
   "outputs": [
    {
     "data": {
      "text/plain": [
       "MultinomialNB(alpha=1.0, class_prior=None, fit_prior=True)"
      ]
     },
     "execution_count": 39,
     "metadata": {},
     "output_type": "execute_result"
    }
   ],
   "source": [
    "nb_clf.fit(tf_vectors,y)"
   ]
  },
  {
   "cell_type": "code",
   "execution_count": 41,
   "metadata": {},
   "outputs": [
    {
     "data": {
      "text/plain": [
       "0.45519713261648748"
      ]
     },
     "execution_count": 41,
     "metadata": {},
     "output_type": "execute_result"
    }
   ],
   "source": [
    "nb_clf.score(tf_vectors,y)"
   ]
  },
  {
   "cell_type": "code",
   "execution_count": 221,
   "metadata": {
    "collapsed": true
   },
   "outputs": [],
   "source": [
    "from sklearn.svm import SVC, LinearSVC"
   ]
  },
  {
   "cell_type": "code",
   "execution_count": 222,
   "metadata": {
    "collapsed": true
   },
   "outputs": [],
   "source": [
    "svc = SVC()"
   ]
  },
  {
   "cell_type": "code",
   "execution_count": 223,
   "metadata": {},
   "outputs": [
    {
     "data": {
      "text/plain": [
       "SVC(C=1.0, cache_size=200, class_weight=None, coef0=0.0,\n",
       "  decision_function_shape='ovr', degree=3, gamma='auto', kernel='rbf',\n",
       "  max_iter=-1, probability=False, random_state=None, shrinking=True,\n",
       "  tol=0.001, verbose=False)"
      ]
     },
     "execution_count": 223,
     "metadata": {},
     "output_type": "execute_result"
    }
   ],
   "source": [
    "svc.fit(tf_vectors,y)"
   ]
  },
  {
   "cell_type": "code",
   "execution_count": 225,
   "metadata": {},
   "outputs": [
    {
     "data": {
      "text/plain": [
       "0.99806674806674811"
      ]
     },
     "execution_count": 225,
     "metadata": {},
     "output_type": "execute_result"
    }
   ],
   "source": [
    "svc.score(tf_vectors,y)"
   ]
  },
  {
   "cell_type": "markdown",
   "metadata": {
    "collapsed": true
   },
   "source": [
    "## TEST"
   ]
  },
  {
   "cell_type": "code",
   "execution_count": 226,
   "metadata": {},
   "outputs": [
    {
     "data": {
      "text/plain": [
       "0.89728562615669338"
      ]
     },
     "execution_count": 226,
     "metadata": {},
     "output_type": "execute_result"
    }
   ],
   "source": [
    "# read in the test data\n",
    "data_test=pd.read_csv(\"../test_data/combine.csv\", sep=\",\", lineterminator='\\n') \n",
    "\n",
    "# preserve the id column of the test examples\n",
    "#kaggle_ids=kaggle_test['PhraseId'].values\n",
    "\n",
    "data_test = data_test[~(data_test[\"id\"] == \"id\")]\n",
    "data_test[\"verified_num\"] = data_test[\"verified\"].apply(lambda x: 1 if x == 'True' else 0)\n",
    "data_test[\"followers_count\"] = data_test[\"followers_count\"].apply(convert_float)\n",
    "data_test[\"user_id\"] = data_test[\"user_id\"].apply(convert_float)\n",
    "data_test[\"friends_count\"] = data_test[\"friends_count\"].apply(convert_float)\n",
    "data_test[\"verified_num\"] = data_test[\"verified_num\"].apply(convert_float)\n",
    "\n",
    "data_test[\"hashtags\"] = data_test[\"hashtags\"].apply(get_hashtags)\n",
    "H_test = data_test[\"hashtags\"].values\n",
    "X_test = data_test['text'].values\n",
    "\n",
    "# vectorize the test examples using the vocabulary fitted from the 60% training data\n",
    "Htest_vec=tfidf_hash.transform(H_test)\n",
    "Xtest_vec=tfidf.transform(X_test)\n",
    "\n",
    "A1 = coo_matrix(Xtest_vec)\n",
    "B1 = coo_matrix(Htest_vec)\n",
    "C1 = coo_matrix(data_test[\"followers_count\"].values)\n",
    "D1 = coo_matrix(data_test[\"friends_count\"].values)\n",
    "E1 = coo_matrix(data_test[\"user_id\"].values)\n",
    "F1 = coo_matrix(data_test[\"verified_num\"].values)\n",
    "tf_vectors1 = hstack([A1,B1,C1.T,D1.T,E1.T,F1.T]).toarray()\n",
    "\n",
    "y1 = data_test['spam'].values\n",
    "\n",
    "svc.score(tf_vectors1,y1)\n"
   ]
  },
  {
   "cell_type": "code",
   "execution_count": null,
   "metadata": {
    "collapsed": true
   },
   "outputs": [],
   "source": []
  },
  {
   "cell_type": "code",
   "execution_count": null,
   "metadata": {
    "collapsed": true
   },
   "outputs": [],
   "source": []
  }
 ],
 "metadata": {
  "kernelspec": {
   "display_name": "Python 3",
   "language": "python",
   "name": "python3"
  },
  "language_info": {
   "codemirror_mode": {
    "name": "ipython",
    "version": 3
   },
   "file_extension": ".py",
   "mimetype": "text/x-python",
   "name": "python",
   "nbconvert_exporter": "python",
   "pygments_lexer": "ipython3",
   "version": "3.6.2"
  }
 },
 "nbformat": 4,
 "nbformat_minor": 2
}

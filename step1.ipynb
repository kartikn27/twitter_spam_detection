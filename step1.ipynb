{
 "cells": [
  {
   "cell_type": "code",
   "execution_count": 21,
   "metadata": {
    "collapsed": true
   },
   "outputs": [],
   "source": [
    "import pandas as pd\n",
    "import ast\n",
    "from six.moves.urllib.parse import urlparse\n"
   ]
  },
  {
   "cell_type": "code",
   "execution_count": 3,
   "metadata": {},
   "outputs": [],
   "source": [
    "df = pd.read_csv(\"../train_data/combine.csv\", sep=\",\", lineterminator='\\n')"
   ]
  },
  {
   "cell_type": "code",
   "execution_count": 4,
   "metadata": {
    "collapsed": true
   },
   "outputs": [],
   "source": [
    "df = df[~(df[\"id\"] == \"id\")]"
   ]
  },
  {
   "cell_type": "code",
   "execution_count": 6,
   "metadata": {
    "collapsed": true
   },
   "outputs": [],
   "source": [
    "df.drop(['Unnamed: 0',\"no\",\"tweet\"] ,axis=1, inplace=True)\n"
   ]
  },
  {
   "cell_type": "code",
   "execution_count": 29,
   "metadata": {
    "collapsed": true
   },
   "outputs": [],
   "source": [
    "def url_scan(url):\n",
    "    url = ast.literal_eval(url)\n",
    "    ans = []\n",
    "    for i in url:\n",
    "        if len(url) > 0:\n",
    "            u = urlparse(i[\"expanded_url\"])\n",
    "\n",
    "            ans.append(u.hostname)\n",
    "\n",
    "            return(ans)"
   ]
  },
  {
   "cell_type": "code",
   "execution_count": 30,
   "metadata": {
    "collapsed": true
   },
   "outputs": [],
   "source": [
    "df[\"url_domain\"] = df[\"urls\"].apply(url_scan)"
   ]
  },
  {
   "cell_type": "code",
   "execution_count": 62,
   "metadata": {},
   "outputs": [],
   "source": [
    "with open(\"../blacklist.txt\") as f:\n",
    "    blacklist = f.read().splitlines()"
   ]
  },
  {
   "cell_type": "code",
   "execution_count": 73,
   "metadata": {},
   "outputs": [],
   "source": [
    "def check_blacklist(domain):\n",
    "    if domain:\n",
    "        for i in domain:\n",
    "            if i in blacklist:\n",
    "                return(1)\n",
    "    return(0)"
   ]
  },
  {
   "cell_type": "code",
   "execution_count": 74,
   "metadata": {},
   "outputs": [],
   "source": [
    "df[\"blacklisted\"] = df[\"url_domain\"].apply(check_blacklist)"
   ]
  },
  {
   "cell_type": "code",
   "execution_count": 75,
   "metadata": {},
   "outputs": [
    {
     "data": {
      "text/plain": [
       "9828"
      ]
     },
     "execution_count": 75,
     "metadata": {},
     "output_type": "execute_result"
    }
   ],
   "source": [
    "sum(df[\"url_domain\"] != \"None\")"
   ]
  },
  {
   "cell_type": "code",
   "execution_count": 76,
   "metadata": {},
   "outputs": [
    {
     "data": {
      "text/plain": [
       "0    9814\n",
       "1      14\n",
       "Name: blacklisted, dtype: int64"
      ]
     },
     "execution_count": 76,
     "metadata": {},
     "output_type": "execute_result"
    }
   ],
   "source": [
    "df[\"blacklisted\"].value_counts()"
   ]
  },
  {
   "cell_type": "code",
   "execution_count": 81,
   "metadata": {},
   "outputs": [],
   "source": [
    "arr = list(df[df[\"blacklisted\"] == 1][\"text\"])"
   ]
  },
  {
   "cell_type": "code",
   "execution_count": 82,
   "metadata": {},
   "outputs": [
    {
     "data": {
      "text/plain": [
       "['Baby on beach arrest: DNA tests could reveal rescuer as mother http://t.co/VJClE87xgE #weird #news',\n",
       " 'Jennifer Aniston admits she was much chubbier 22 years ago before embarking on vigorous yoga regime http://t.co/KuiCpQ43fV',\n",
       " 'There is a new review on Hen Wlad fy Nhadau Mug - Thanks Jill. https://t.co/HkEdlSyD5w via @yotpo http://t.co/WKeTh6RttL',\n",
       " 'StoryBundle, the DRM-free eBook bundle service from former Gizmodo maven Jason Chen, is offering its: S... http://t.co/UyJ7eV4Dqz #games',\n",
       " 'Want to get shopping app in my ipad? http://t.co/0XxTq167Dx',\n",
       " 'Chad sets sights on progress: Without a FIFA World Cup™ or CAF Africa Cup of Nations appearance to their name,... http://t.co/pT3dYInGlJ',\n",
       " 'Cheap web hosting Web hosting provider free domain Web hosting service Unlimited Bandwidth &amp; space http://t.co/K36sESznVg 18:02',\n",
       " 'CSN: Harden, Rockets stun Thunder, force Game 6:  http://t.co/UQkMx7Fy9b Wait 5s,pressSKIP AD',\n",
       " '#Music# Twitter #Music hiding Pandora-like feature - Digital Trends: Twitter #Music hiding ... http://t.co/3hqRybXPLj #@KittyZhangYuqi1#',\n",
       " \"Mosque stab death 'was premeditated': The daughter of a 75-year-old man who was stabbed on his way hom... http://t.co/y2dXHvzT1a More...\",\n",
       " 'Thailand gun attack leaves six dead http://t.co/b1lHSZfLcC',\n",
       " 'There is a new review on TePe Travel Case - Thanks Carl O.. https://t.co/jdctKjdXH8 via @yotpo http://t.co/P4TuxtQJE3',\n",
       " '#Deals Save: 84%! Only $4.88 - MSRP: $29.99 - 2 CT White Topaz Silver Stud Earrings With B... http://t.co/winepkev9q #Sale #Free #Coupon',\n",
       " 'Bellows Falls Police Chief updates boards on reported drug complaints - Brattleboro Reformer: Bellows Falls Po... http://t.co/GuzhULVKj9']"
      ]
     },
     "execution_count": 82,
     "metadata": {},
     "output_type": "execute_result"
    }
   ],
   "source": [
    "arr"
   ]
  },
  {
   "cell_type": "code",
   "execution_count": null,
   "metadata": {
    "collapsed": true
   },
   "outputs": [],
   "source": []
  }
 ],
 "metadata": {
  "kernelspec": {
   "display_name": "Python 3",
   "language": "python",
   "name": "python3"
  },
  "language_info": {
   "codemirror_mode": {
    "name": "ipython",
    "version": 3
   },
   "file_extension": ".py",
   "mimetype": "text/x-python",
   "name": "python",
   "nbconvert_exporter": "python",
   "pygments_lexer": "ipython3",
   "version": "3.6.2"
  }
 },
 "nbformat": 4,
 "nbformat_minor": 2
}
